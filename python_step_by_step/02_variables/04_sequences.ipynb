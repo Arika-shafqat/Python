{
 "cells": [
  {
   "cell_type": "markdown",
   "id": "aeb6f1f4",
   "metadata": {},
   "source": [
    "# sequences"
   ]
  },
  {
   "cell_type": "code",
   "execution_count": 8,
   "id": "78935590",
   "metadata": {},
   "outputs": [
    {
     "name": "stdout",
     "output_type": "stream",
     "text": [
      "[10, 20, 30, 40, 50]\n",
      "['apple', 'banana', 'cherry']\n",
      "range(1, 10)\n"
     ]
    }
   ],
   "source": [
    "list = [10,20,30,40,50]\n",
    "fruits = [\"apple\",\"banana\",\"cherry\"]\n",
    "ranges = range(1,10,1)\n",
    "print(list)\n",
    "print(fruits)\n",
    "print(ranges)\n"
   ]
  },
  {
   "cell_type": "code",
   "execution_count": 10,
   "id": "151e3ed4",
   "metadata": {},
   "outputs": [
    {
     "name": "stdout",
     "output_type": "stream",
     "text": [
      "True\n"
     ]
    }
   ],
   "source": [
    "print('apple' in fruits)"
   ]
  },
  {
   "cell_type": "code",
   "execution_count": 11,
   "id": "83ac0b9d",
   "metadata": {},
   "outputs": [
    {
     "data": {
      "text/plain": [
       "[1, 2, 3, 4, 5, 6, 7, 7, 8, 9, 0]"
      ]
     },
     "execution_count": 11,
     "metadata": {},
     "output_type": "execute_result"
    }
   ],
   "source": [
    "list_1 = [1,2,3,4,5,6,7]\n",
    "list_2 = [7,8,9,0]\n",
    "list_1 + list_2"
   ]
  },
  {
   "cell_type": "code",
   "execution_count": 12,
   "id": "3515391c",
   "metadata": {},
   "outputs": [
    {
     "data": {
      "text/plain": [
       "[1, 2, 3, 4, 5, 6, 7, 1, 2, 3, 4, 5, 6, 7]"
      ]
     },
     "execution_count": 12,
     "metadata": {},
     "output_type": "execute_result"
    }
   ],
   "source": [
    "list_1 * 2"
   ]
  },
  {
   "cell_type": "code",
   "execution_count": null,
   "id": "e132b728",
   "metadata": {},
   "outputs": [
    {
     "ename": "TypeError",
     "evalue": "'list' object is not callable",
     "output_type": "error",
     "traceback": [
      "\u001b[1;31m---------------------------------------------------------------------------\u001b[0m",
      "\u001b[1;31mTypeError\u001b[0m                                 Traceback (most recent call last)",
      "Cell \u001b[1;32mIn[14], line 1\u001b[0m\n\u001b[1;32m----> 1\u001b[0m \u001b[38;5;28;43mlist\u001b[39;49m\u001b[43m(\u001b[49m\u001b[38;5;28;43mrange\u001b[39;49m\u001b[43m(\u001b[49m\u001b[38;5;241;43m1\u001b[39;49m\u001b[43m,\u001b[49m\u001b[38;5;241;43m10\u001b[39;49m\u001b[43m)\u001b[49m\u001b[43m)\u001b[49m\n",
      "\u001b[1;31mTypeError\u001b[0m: 'list' object is not callable"
     ]
    }
   ],
   "source": [
    "list(range(1,10))"
   ]
  }
 ],
 "metadata": {
  "kernelspec": {
   "display_name": "python_basics",
   "language": "python",
   "name": "python3"
  },
  "language_info": {
   "codemirror_mode": {
    "name": "ipython",
    "version": 3
   },
   "file_extension": ".py",
   "mimetype": "text/x-python",
   "name": "python",
   "nbconvert_exporter": "python",
   "pygments_lexer": "ipython3",
   "version": "3.10.18"
  }
 },
 "nbformat": 4,
 "nbformat_minor": 5
}

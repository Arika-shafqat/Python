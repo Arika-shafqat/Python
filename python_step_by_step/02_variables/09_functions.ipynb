{
 "cells": [
  {
   "cell_type": "markdown",
   "id": "92123a17",
   "metadata": {},
   "source": [
    "# function"
   ]
  },
  {
   "cell_type": "markdown",
   "id": "b38076d7",
   "metadata": {},
   "source": [
    "# Built in Function"
   ]
  },
  {
   "cell_type": "code",
   "execution_count": 1,
   "id": "0aa2c8b3",
   "metadata": {},
   "outputs": [
    {
     "data": {
      "text/plain": [
       "2323"
      ]
     },
     "execution_count": 1,
     "metadata": {},
     "output_type": "execute_result"
    }
   ],
   "source": [
    "prices = [200,300,200,400,344,879]\n",
    "sum(prices)"
   ]
  },
  {
   "cell_type": "code",
   "execution_count": 3,
   "id": "7ccd0556",
   "metadata": {},
   "outputs": [
    {
     "data": {
      "text/plain": [
       "200"
      ]
     },
     "execution_count": 3,
     "metadata": {},
     "output_type": "execute_result"
    }
   ],
   "source": [
    "min(prices)"
   ]
  },
  {
   "cell_type": "code",
   "execution_count": 2,
   "id": "812cdafe",
   "metadata": {},
   "outputs": [
    {
     "data": {
      "text/plain": [
       "879"
      ]
     },
     "execution_count": 2,
     "metadata": {},
     "output_type": "execute_result"
    }
   ],
   "source": [
    "max(prices)"
   ]
  },
  {
   "cell_type": "code",
   "execution_count": 4,
   "id": "11af6883",
   "metadata": {},
   "outputs": [],
   "source": [
    "mean = sum(prices)/len(prices)"
   ]
  },
  {
   "cell_type": "code",
   "execution_count": 5,
   "id": "a4e48a46",
   "metadata": {},
   "outputs": [
    {
     "name": "stdout",
     "output_type": "stream",
     "text": [
      "387.1666666666667\n"
     ]
    }
   ],
   "source": [
    "print(mean)"
   ]
  },
  {
   "cell_type": "markdown",
   "id": "c7c128d0",
   "metadata": {},
   "source": [
    "# User defined function"
   ]
  },
  {
   "cell_type": "code",
   "execution_count": 6,
   "id": "4ba64efb",
   "metadata": {},
   "outputs": [],
   "source": [
    "def greet(name):\n",
    "    # This function is greets to the person in as a \n",
    "    # parameter\n",
    "    print(\"Hello,  \"+name+\"  Good Morning\")\n"
   ]
  },
  {
   "cell_type": "code",
   "execution_count": 7,
   "id": "58f675a0",
   "metadata": {},
   "outputs": [
    {
     "name": "stdout",
     "output_type": "stream",
     "text": [
      "Hello,  Arika  Good Morning\n"
     ]
    }
   ],
   "source": [
    "greet(\"Arika\")"
   ]
  },
  {
   "cell_type": "code",
   "execution_count": null,
   "id": "63dc74b6",
   "metadata": {},
   "outputs": [],
   "source": [
    "def mean_of_list(numbers):\n",
    "    \"\"\"this Function give the mean of list of numbers\"\"\"\n",
    "    return round(sum(numbers)/len(numbers),2)\n"
   ]
  },
  {
   "cell_type": "code",
   "execution_count": 10,
   "id": "c3167f68",
   "metadata": {},
   "outputs": [
    {
     "data": {
      "text/plain": [
       "296.25"
      ]
     },
     "execution_count": 10,
     "metadata": {},
     "output_type": "execute_result"
    }
   ],
   "source": [
    "prices=[344,444,55 ,342]\n",
    "mean_of_list(prices)"
   ]
  },
  {
   "cell_type": "code",
   "execution_count": 17,
   "id": "ebb4424a",
   "metadata": {},
   "outputs": [
    {
     "data": {
      "text/plain": [
       "'this technique help you to tell what the function do'"
      ]
     },
     "execution_count": 17,
     "metadata": {},
     "output_type": "execute_result"
    }
   ],
   "source": [
    "\"\"\"this technique help you to tell what the function do\"\"\"\n"
   ]
  },
  {
   "cell_type": "code",
   "execution_count": 16,
   "id": "40110ac6",
   "metadata": {},
   "outputs": [
    {
     "name": "stdout",
     "output_type": "stream",
     "text": [
      "\u001b[1;31mSignature:\u001b[0m \u001b[0mmean_of_list\u001b[0m\u001b[1;33m(\u001b[0m\u001b[0mnumbers\u001b[0m\u001b[1;33m)\u001b[0m\u001b[1;33m\u001b[0m\u001b[1;33m\u001b[0m\u001b[0m\n",
      "\u001b[1;31mDocstring:\u001b[0m this Function give the mean of list of numbers\n",
      "\u001b[1;31mFile:\u001b[0m      c:\\users\\ssc\\appdata\\local\\temp\\ipykernel_6200\\4002262814.py\n",
      "\u001b[1;31mType:\u001b[0m      function"
     ]
    }
   ],
   "source": [
    "?mean_of_list"
   ]
  },
  {
   "cell_type": "code",
   "execution_count": 18,
   "id": "d676da51",
   "metadata": {},
   "outputs": [],
   "source": [
    "def add(a,b):\n",
    "    \"\"\"This function adds two numbers\"\"\"\n",
    "    return a+b"
   ]
  },
  {
   "cell_type": "code",
   "execution_count": 19,
   "id": "a6658209",
   "metadata": {},
   "outputs": [
    {
     "data": {
      "text/plain": [
       "5"
      ]
     },
     "execution_count": 19,
     "metadata": {},
     "output_type": "execute_result"
    }
   ],
   "source": [
    "add(2,3)"
   ]
  },
  {
   "cell_type": "code",
   "execution_count": null,
   "id": "5eb29831",
   "metadata": {},
   "outputs": [],
   "source": [
    "def add_three(a,b,c):\n",
    "    \"\"\"This function adds three numbers\"\"\"\n",
    "    return a+b+c"
   ]
  },
  {
   "cell_type": "code",
   "execution_count": 25,
   "id": "72837e99",
   "metadata": {},
   "outputs": [
    {
     "data": {
      "text/plain": [
       "9"
      ]
     },
     "execution_count": 25,
     "metadata": {},
     "output_type": "execute_result"
    }
   ],
   "source": [
    "add_three(2,3,4)"
   ]
  },
  {
   "cell_type": "code",
   "execution_count": 30,
   "id": "1f478585",
   "metadata": {},
   "outputs": [],
   "source": [
    "def intro(name , age):\n",
    "    print(\"Hello, My nsme is \" + name +\" and my age is \"+str(age) )\n",
    "    \"\"\"we use here str() funtion beacuse + in above use to conncatenate fumction that\n",
    "    is use for only string data type\"\"\""
   ]
  },
  {
   "cell_type": "code",
   "execution_count": 31,
   "id": "c3df9a11",
   "metadata": {},
   "outputs": [
    {
     "name": "stdout",
     "output_type": "stream",
     "text": [
      "Hello, My nsme is Arika and my age is 22\n"
     ]
    }
   ],
   "source": [
    "intro(\"Arika\",22)"
   ]
  },
  {
   "cell_type": "code",
   "execution_count": 32,
   "id": "a97704f2",
   "metadata": {},
   "outputs": [],
   "source": [
    "# funtion without parameter\n",
    "def say_hello():\n",
    "    print(\"Hello\")"
   ]
  },
  {
   "cell_type": "code",
   "execution_count": 33,
   "id": "4d3912f0",
   "metadata": {},
   "outputs": [
    {
     "name": "stdout",
     "output_type": "stream",
     "text": [
      "Hello\n"
     ]
    }
   ],
   "source": [
    "say_hello()"
   ]
  },
  {
   "cell_type": "markdown",
   "id": "55580726",
   "metadata": {},
   "source": [
    "## default parameters"
   ]
  },
  {
   "cell_type": "code",
   "execution_count": 34,
   "id": "4b0df974",
   "metadata": {},
   "outputs": [],
   "source": [
    "def intro(name=\"Arika\" , age=22):\n",
    "    print(\"Hello, My nsme is \" + name +\" and my age is \"+str(age) )\n"
   ]
  },
  {
   "cell_type": "code",
   "execution_count": 35,
   "id": "0b5177bd",
   "metadata": {},
   "outputs": [
    {
     "name": "stdout",
     "output_type": "stream",
     "text": [
      "Hello, My nsme is Arika and my age is 22\n",
      "Hello, My nsme is Amaz and my age is 18\n"
     ]
    }
   ],
   "source": [
    "intro()\n",
    "intro(\"Amaz\",18)"
   ]
  }
 ],
 "metadata": {
  "kernelspec": {
   "display_name": "python_basics",
   "language": "python",
   "name": "python3"
  },
  "language_info": {
   "codemirror_mode": {
    "name": "ipython",
    "version": 3
   },
   "file_extension": ".py",
   "mimetype": "text/x-python",
   "name": "python",
   "nbconvert_exporter": "python",
   "pygments_lexer": "ipython3",
   "version": "3.10.18"
  }
 },
 "nbformat": 4,
 "nbformat_minor": 5
}

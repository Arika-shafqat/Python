{
 "cells": [
  {
   "cell_type": "markdown",
   "id": "2a47765e",
   "metadata": {},
   "source": [
    "# Control Flow Statements"
   ]
  },
  {
   "cell_type": "markdown",
   "id": "e83d95e5",
   "metadata": {},
   "source": [
    "## if"
   ]
  },
  {
   "cell_type": "code",
   "execution_count": 13,
   "id": "3e675305",
   "metadata": {},
   "outputs": [
    {
     "name": "stdout",
     "output_type": "stream",
     "text": [
      "Welcome\n"
     ]
    }
   ],
   "source": [
    "age = 18\n",
    "if age>= 18:\n",
    "    print(\"Welcome\")"
   ]
  },
  {
   "cell_type": "markdown",
   "id": "e1cb08d7",
   "metadata": {},
   "source": [
    "## if else"
   ]
  },
  {
   "cell_type": "code",
   "execution_count": 14,
   "id": "28cfbafa",
   "metadata": {},
   "outputs": [
    {
     "name": "stdout",
     "output_type": "stream",
     "text": [
      "Welcome\n"
     ]
    }
   ],
   "source": [
    "if age >= 18:\n",
    "    print('Welcome')\n",
    "elif age == 17:\n",
    "    print(\"After one year you are eligiable to open this app\")    \n",
    "else:\n",
    "    print (\"You are eligiable to open this app\")   "
   ]
  },
  {
   "cell_type": "markdown",
   "id": "d8b47866",
   "metadata": {},
   "source": [
    "## Nested if"
   ]
  },
  {
   "cell_type": "code",
   "execution_count": 15,
   "id": "d87e74c8",
   "metadata": {},
   "outputs": [
    {
     "name": "stdout",
     "output_type": "stream",
     "text": [
      "You are eligeable for driving\n"
     ]
    }
   ],
   "source": [
    "lisence= True\n",
    "if age >= 18:\n",
    "    if lisence :\n",
    "        print(\"You are eligeable for driving\")\n",
    "    else:\n",
    "        print(\"You are not eligeable for driving\")\n",
    "else:\n",
    "    print(\"You are not eligeable for driving\")        "
   ]
  },
  {
   "cell_type": "markdown",
   "id": "55747c84",
   "metadata": {},
   "source": [
    "## Loops "
   ]
  },
  {
   "cell_type": "markdown",
   "id": "b3111b51",
   "metadata": {},
   "source": [
    "## 1. for loop "
   ]
  },
  {
   "cell_type": "code",
   "execution_count": 16,
   "id": "a98008ab",
   "metadata": {},
   "outputs": [],
   "source": [
    "list = ['Ahmed','Ali','Raza','Usman','Aammar']"
   ]
  },
  {
   "cell_type": "code",
   "execution_count": 17,
   "id": "5d5fe102",
   "metadata": {},
   "outputs": [
    {
     "name": "stdout",
     "output_type": "stream",
     "text": [
      "Ahmed\n",
      "Ali\n",
      "Raza\n",
      "Usman\n",
      "Aammar\n"
     ]
    }
   ],
   "source": [
    "for name in list:\n",
    "    print(name)"
   ]
  },
  {
   "cell_type": "code",
   "execution_count": 18,
   "id": "3c70531a",
   "metadata": {},
   "outputs": [
    {
     "name": "stdout",
     "output_type": "stream",
     "text": [
      " Chai cup 0 is served\n",
      " Chai cup 1 is served\n",
      " Chai cup 2 is served\n",
      " Chai cup 3 is served\n",
      " Chai cup 4 is served\n",
      " Chai cup 5 is served\n",
      " Chai cup 6 is served\n",
      " Chai cup 7 is served\n",
      " Chai cup 8 is served\n",
      " Chai cup 9 is served\n",
      "I'm full no more\n"
     ]
    }
   ],
   "source": [
    "cup_of_chai = 0\n",
    "while cup_of_chai < 10:\n",
    "    print(f\" Chai cup {cup_of_chai} is served\")\n",
    "    cup_of_chai += 1\n",
    "\n",
    "print(\"I'm full no more\")"
   ]
  },
  {
   "cell_type": "code",
   "execution_count": 19,
   "id": "ab136c0d",
   "metadata": {},
   "outputs": [
    {
     "name": "stdout",
     "output_type": "stream",
     "text": [
      " Chai cup 0 is served\n",
      " Chai cup 1 is served\n",
      " Chai cup 2 is served\n",
      " Chai cup 3 is served\n",
      "I'm full no more\n"
     ]
    }
   ],
   "source": [
    "cup_of_chai = 0\n",
    "while cup_of_chai < 10:\n",
    "    print(f\" Chai cup {cup_of_chai} is served\")\n",
    "    if cup_of_chai == 3:\n",
    "        print(\"I'm full no more\")\n",
    "        break\n",
    "    cup_of_chai += 1\n",
    "\n"
   ]
  },
  {
   "cell_type": "code",
   "execution_count": 24,
   "id": "f3aae39e",
   "metadata": {},
   "outputs": [
    {
     "name": "stdout",
     "output_type": "stream",
     "text": [
      " Chai cup 1 is served\n",
      " Chai cup 2 is served\n",
      "This tea is cold need an other\n",
      " Chai cup 4 is served\n",
      " Chai cup 5 is served\n",
      " Chai cup 6 is served\n",
      " Chai cup 7 is served\n",
      " Chai cup 8 is served\n",
      " Chai cup 9 is served\n",
      " Chai cup 10 is served\n",
      "I'm full no more\n"
     ]
    }
   ],
   "source": [
    "cup_of_chai = 0\n",
    "while cup_of_chai < 10:\n",
    "    cup_of_chai += 1\n",
    "    if cup_of_chai == 3:\n",
    "        print(\"This tea is cold need an other\")\n",
    "        continue\n",
    "    print(f\" Chai cup {cup_of_chai} is served\")\n",
    "print(\"I'm full no more\")"
   ]
  },
  {
   "cell_type": "markdown",
   "id": "b33cfeed",
   "metadata": {},
   "source": [
    "## Range function in loop"
   ]
  },
  {
   "cell_type": "code",
   "execution_count": 25,
   "id": "0c95d600",
   "metadata": {},
   "outputs": [
    {
     "name": "stdout",
     "output_type": "stream",
     "text": [
      "Cup is ready 1 served\n",
      "Cup is ready 2 served\n",
      "Cup is ready 3 served\n",
      "Cup is ready 4 served\n",
      "Cup is ready 5 served\n"
     ]
    }
   ],
   "source": [
    "for cup in range(1,6):\n",
    "    print(\"Cup is ready\",cup,\"served\")\n"
   ]
  },
  {
   "cell_type": "markdown",
   "id": "48b71713",
   "metadata": {},
   "source": [
    "### pass statement"
   ]
  },
  {
   "cell_type": "code",
   "execution_count": null,
   "id": "f90ea558",
   "metadata": {},
   "outputs": [
    {
     "name": "stdout",
     "output_type": "stream",
     "text": [
      " Chai cup 1 is served\n",
      " Chai cup 2 is served\n",
      "This tea is cold need an other\n",
      " Chai cup 3 is served\n",
      " Chai cup 4 is served\n",
      " Chai cup 5 is served\n",
      " Chai cup 6 is served\n",
      " Chai cup 7 is served\n",
      " Chai cup 8 is served\n",
      " Chai cup 9 is served\n",
      " Chai cup 10 is served\n",
      "I'm full no more\n"
     ]
    }
   ],
   "source": [
    "cup_of_chai = 0\n",
    "while cup_of_chai < 10:\n",
    "    cup_of_chai += 1\n",
    "    if cup_of_chai == 3:\n",
    "        print(\"This tea is cold need an other\")\n",
    "        pass #do nothing when i==3\n",
    "    print(f\" Chai cup {cup_of_chai} is served\")\n",
    "print(\"I'm full no more\")"
   ]
  },
  {
   "cell_type": "markdown",
   "id": "d4d3b04e",
   "metadata": {},
   "source": [
    "# try , except and finally"
   ]
  },
  {
   "cell_type": "code",
   "execution_count": 28,
   "id": "6a8f6335",
   "metadata": {},
   "outputs": [
    {
     "name": "stdout",
     "output_type": "stream",
     "text": [
      "hello\n",
      "divided by zero error\n",
      "This will execute no matter what.\n"
     ]
    }
   ],
   "source": [
    "try:\n",
    "    print(\"hello\")\n",
    "    print(2/0)\n",
    "except ZeroDivisionError:\n",
    "    print(\"divided by zero error\")\n",
    "finally:\n",
    "    print(\"This will execute no matter what.\")"
   ]
  }
 ],
 "metadata": {
  "kernelspec": {
   "display_name": "python_basics",
   "language": "python",
   "name": "python3"
  },
  "language_info": {
   "codemirror_mode": {
    "name": "ipython",
    "version": 3
   },
   "file_extension": ".py",
   "mimetype": "text/x-python",
   "name": "python",
   "nbconvert_exporter": "python",
   "pygments_lexer": "ipython3",
   "version": "3.10.18"
  }
 },
 "nbformat": 4,
 "nbformat_minor": 5
}

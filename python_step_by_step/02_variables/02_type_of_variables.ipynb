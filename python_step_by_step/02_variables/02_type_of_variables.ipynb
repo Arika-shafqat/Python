{
 "cells": [
  {
   "cell_type": "markdown",
   "id": "60ae7a98",
   "metadata": {},
   "source": [
    "# **Types of Variables**"
   ]
  },
  {
   "cell_type": "markdown",
   "id": "92f5aea3",
   "metadata": {},
   "source": [
    "# 1.Integer \n",
    "(Mutable)"
   ]
  },
  {
   "cell_type": "code",
   "execution_count": 4,
   "id": "383a1c8b",
   "metadata": {},
   "outputs": [
    {
     "name": "stdout",
     "output_type": "stream",
     "text": [
      "<class 'int'>\n"
     ]
    }
   ],
   "source": [
    "age = 10\n",
    "#type(age)\n",
    "print(type(age))"
   ]
  },
  {
   "cell_type": "markdown",
   "id": "eabd1fdc",
   "metadata": {},
   "source": [
    "# 2.Floating\n",
    "(Mutable)"
   ]
  },
  {
   "cell_type": "code",
   "execution_count": 7,
   "id": "b0b6150b",
   "metadata": {},
   "outputs": [
    {
     "data": {
      "text/plain": [
       "float"
      ]
     },
     "execution_count": 7,
     "metadata": {},
     "output_type": "execute_result"
    }
   ],
   "source": [
    "temprature = 10.2\n",
    "type(temprature)"
   ]
  },
  {
   "cell_type": "code",
   "execution_count": 8,
   "id": "8292631b",
   "metadata": {},
   "outputs": [
    {
     "name": "stdout",
     "output_type": "stream",
     "text": [
      "<class 'float'>\n"
     ]
    }
   ],
   "source": [
    "print(type(temprature))"
   ]
  },
  {
   "cell_type": "markdown",
   "id": "2d276798",
   "metadata": {},
   "source": [
    "# 3.String"
   ]
  },
  {
   "cell_type": "code",
   "execution_count": 10,
   "id": "92ce0a4b",
   "metadata": {},
   "outputs": [
    {
     "name": "stdout",
     "output_type": "stream",
     "text": [
      "<class 'str'>\n",
      "Hello , World! \n"
     ]
    }
   ],
   "source": [
    "greeting = \"Hello , World! \"\n",
    "print(type(greeting))\n",
    "print(greeting)"
   ]
  },
  {
   "cell_type": "markdown",
   "id": "dfcb52ee",
   "metadata": {},
   "source": [
    "# 4. Boolean"
   ]
  },
  {
   "cell_type": "code",
   "execution_count": 12,
   "id": "c6b7225e",
   "metadata": {},
   "outputs": [
    {
     "data": {
      "text/plain": [
       "bool"
      ]
     },
     "execution_count": 12,
     "metadata": {},
     "output_type": "execute_result"
    }
   ],
   "source": [
    "is_ranining = False\n",
    "type(is_ranining)"
   ]
  },
  {
   "cell_type": "markdown",
   "id": "4d5016d2",
   "metadata": {},
   "source": [
    "# 5.List\n",
    "(Mutable)"
   ]
  },
  {
   "cell_type": "code",
   "execution_count": null,
   "id": "4ef550a1",
   "metadata": {},
   "outputs": [],
   "source": [
    "numbers = [1,2,3,4,5] \n",
    "persons = [\"Ali\",\"Ahsan\",\"Ahmad\"]"
   ]
  },
  {
   "cell_type": "markdown",
   "id": "e1b853d4",
   "metadata": {},
   "source": [
    "# 6.Tuple"
   ]
  },
  {
   "cell_type": "code",
   "execution_count": 20,
   "id": "957efdcf",
   "metadata": {},
   "outputs": [],
   "source": [
    "numbers = (9,2,3,4,5) \n",
    "persons = (\"Ali\",\"Ahsan\",\"Ahmad\")"
   ]
  },
  {
   "cell_type": "markdown",
   "id": "8894b2af",
   "metadata": {},
   "source": [
    "# 7. Dictionary\n",
    "(Mutable)"
   ]
  },
  {
   "cell_type": "code",
   "execution_count": 19,
   "id": "96211bf7",
   "metadata": {},
   "outputs": [],
   "source": [
    "persons = {\"Name\":\"Arika\"}"
   ]
  },
  {
   "cell_type": "markdown",
   "id": "26c17217",
   "metadata": {},
   "source": [
    "# 8. Set\n",
    "(Mutable)"
   ]
  },
  {
   "cell_type": "code",
   "execution_count": 22,
   "id": "987d07bd",
   "metadata": {},
   "outputs": [],
   "source": [
    "numbers = {1,2,3,4,5} \n",
    "persons = {\"Ali\",\"Ahsan\",\"Ahmad\"}"
   ]
  },
  {
   "cell_type": "markdown",
   "id": "0e28dac3",
   "metadata": {},
   "source": [
    "# 9. None Type"
   ]
  },
  {
   "cell_type": "code",
   "execution_count": 23,
   "id": "b548331d",
   "metadata": {},
   "outputs": [],
   "source": [
    "result = None"
   ]
  },
  {
   "cell_type": "markdown",
   "id": "217d0020",
   "metadata": {},
   "source": [
    "# 10. Complex"
   ]
  },
  {
   "cell_type": "code",
   "execution_count": 24,
   "id": "d10aa37e",
   "metadata": {},
   "outputs": [],
   "source": [
    "coplex_num = 5 + 4j"
   ]
  }
 ],
 "metadata": {
  "kernelspec": {
   "display_name": "python_basics",
   "language": "python",
   "name": "python3"
  },
  "language_info": {
   "codemirror_mode": {
    "name": "ipython",
    "version": 3
   },
   "file_extension": ".py",
   "mimetype": "text/x-python",
   "name": "python",
   "nbconvert_exporter": "python",
   "pygments_lexer": "ipython3",
   "version": "3.10.18"
  }
 },
 "nbformat": 4,
 "nbformat_minor": 5
}

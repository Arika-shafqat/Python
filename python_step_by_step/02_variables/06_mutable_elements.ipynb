{
 "cells": [
  {
   "cell_type": "markdown",
   "id": "5c0002c6",
   "metadata": {},
   "source": [
    "# Mutable elements"
   ]
  },
  {
   "cell_type": "code",
   "execution_count": 7,
   "id": "26dcaecd",
   "metadata": {},
   "outputs": [],
   "source": [
    "list = ['Ahmed','Ali','Raza','Usman','Aammar']"
   ]
  },
  {
   "cell_type": "code",
   "execution_count": 8,
   "id": "450601a2",
   "metadata": {},
   "outputs": [],
   "source": [
    "list [3] = 'Hanzla'"
   ]
  },
  {
   "cell_type": "code",
   "execution_count": 9,
   "id": "19ea2fa1",
   "metadata": {},
   "outputs": [
    {
     "name": "stdout",
     "output_type": "stream",
     "text": [
      "['Ahmed', 'Ali', 'Raza', 'Hanzla', 'Aammar']\n"
     ]
    }
   ],
   "source": [
    "print(list)"
   ]
  },
  {
   "cell_type": "code",
   "execution_count": 10,
   "id": "7aa83c9f",
   "metadata": {},
   "outputs": [],
   "source": [
    "tuple = ('Ahmed','Ali','Raza','Usman','Aammar')"
   ]
  },
  {
   "cell_type": "code",
   "execution_count": 13,
   "id": "d19aa469",
   "metadata": {},
   "outputs": [
    {
     "ename": "TypeError",
     "evalue": "'tuple' object does not support item assignment",
     "output_type": "error",
     "traceback": [
      "\u001b[1;31m---------------------------------------------------------------------------\u001b[0m",
      "\u001b[1;31mTypeError\u001b[0m                                 Traceback (most recent call last)",
      "Cell \u001b[1;32mIn[13], line 1\u001b[0m\n\u001b[1;32m----> 1\u001b[0m \u001b[38;5;28;43mtuple\u001b[39;49m\u001b[43m[\u001b[49m\u001b[38;5;241;43m3\u001b[39;49m\u001b[43m]\u001b[49m\u001b[38;5;241m=\u001b[39m\u001b[38;5;124m'\u001b[39m\u001b[38;5;124mHanzla\u001b[39m\u001b[38;5;124m'\u001b[39m\n",
      "\u001b[1;31mTypeError\u001b[0m: 'tuple' object does not support item assignment"
     ]
    }
   ],
   "source": [
    "tuple[3]='Hanzla'"
   ]
  }
 ],
 "metadata": {
  "kernelspec": {
   "display_name": "python_basics",
   "language": "python",
   "name": "python3"
  },
  "language_info": {
   "codemirror_mode": {
    "name": "ipython",
    "version": 3
   },
   "file_extension": ".py",
   "mimetype": "text/x-python",
   "name": "python",
   "nbconvert_exporter": "python",
   "pygments_lexer": "ipython3",
   "version": "3.10.18"
  }
 },
 "nbformat": 4,
 "nbformat_minor": 5
}

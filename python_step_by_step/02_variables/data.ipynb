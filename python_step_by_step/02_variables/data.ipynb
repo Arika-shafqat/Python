{
 "cells": [
  {
   "cell_type": "code",
   "execution_count": 1,
   "id": "7fa40647",
   "metadata": {},
   "outputs": [
    {
     "name": "stdout",
     "output_type": "stream",
     "text": [
      "I'm learning coding with python\n",
      "Hello World\n"
     ]
    }
   ],
   "source": [
    "print(\"I'm learning coding with python\")\n",
    "print(\"Hello World\")"
   ]
  },
  {
   "cell_type": "code",
   "execution_count": 2,
   "id": "2bc91281",
   "metadata": {},
   "outputs": [
    {
     "name": "stdout",
     "output_type": "stream",
     "text": [
      "I'm learning \n",
      "Hello\n"
     ]
    }
   ],
   "source": [
    "print(\"I'm learning \")\n",
    "print(\"Hello\")"
   ]
  }
 ],
 "metadata": {
  "kernelspec": {
   "display_name": "python_basics",
   "language": "python",
   "name": "python3"
  },
  "language_info": {
   "codemirror_mode": {
    "name": "ipython",
    "version": 3
   },
   "file_extension": ".py",
   "mimetype": "text/x-python",
   "name": "python",
   "nbconvert_exporter": "python",
   "pygments_lexer": "ipython3",
   "version": "3.10.18"
  }
 },
 "nbformat": 4,
 "nbformat_minor": 5
}

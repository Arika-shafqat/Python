{
 "cells": [
  {
   "cell_type": "markdown",
   "id": "94cfebe3",
   "metadata": {},
   "source": [
    "# Lambda Function\n",
    "##### lambda arguments:expresion"
   ]
  },
  {
   "cell_type": "code",
   "execution_count": 1,
   "id": "38bc6e93",
   "metadata": {},
   "outputs": [],
   "source": [
    "def add(x,y):\n",
    "    return x+y"
   ]
  },
  {
   "cell_type": "code",
   "execution_count": 6,
   "id": "4789e394",
   "metadata": {},
   "outputs": [],
   "source": [
    "add_lambda = lambda x,y : x + y"
   ]
  },
  {
   "cell_type": "code",
   "execution_count": 7,
   "id": "5390d09f",
   "metadata": {},
   "outputs": [
    {
     "name": "stdout",
     "output_type": "stream",
     "text": [
      "5\n"
     ]
    }
   ],
   "source": [
    "result = add_lambda(2,3)\n",
    "print(result)"
   ]
  },
  {
   "cell_type": "markdown",
   "id": "59f8b56d",
   "metadata": {},
   "source": [
    "### map function"
   ]
  },
  {
   "cell_type": "code",
   "execution_count": 8,
   "id": "c7fcd8b1",
   "metadata": {},
   "outputs": [
    {
     "name": "stdout",
     "output_type": "stream",
     "text": [
      "[9, 16, 9, 25, 9, 4]\n"
     ]
    }
   ],
   "source": [
    "number = [3,4,3,5,3,2]\n",
    "#lambda function\n",
    "squared_numbers = map(lambda x:x**2,number)\n",
    "print(list(squared_numbers))"
   ]
  },
  {
   "cell_type": "code",
   "execution_count": 10,
   "id": "e498cd41",
   "metadata": {},
   "outputs": [
    {
     "name": "stdout",
     "output_type": "stream",
     "text": [
      "[27, 64, 27, 125, 27, 8]\n"
     ]
    }
   ],
   "source": [
    "number = [3,4,3,5,3,2]\n",
    "#lambda function\n",
    "cube_of_numbers = map(lambda x:x**3,number)\n",
    "print(list(cube_of_numbers))"
   ]
  }
 ],
 "metadata": {
  "kernelspec": {
   "display_name": "python_basics",
   "language": "python",
   "name": "python3"
  },
  "language_info": {
   "codemirror_mode": {
    "name": "ipython",
    "version": 3
   },
   "file_extension": ".py",
   "mimetype": "text/x-python",
   "name": "python",
   "nbconvert_exporter": "python",
   "pygments_lexer": "ipython3",
   "version": "3.10.18"
  }
 },
 "nbformat": 4,
 "nbformat_minor": 5
}

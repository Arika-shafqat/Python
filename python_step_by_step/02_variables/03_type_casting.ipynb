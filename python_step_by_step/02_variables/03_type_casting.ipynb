{
 "cells": [
  {
   "cell_type": "markdown",
   "id": "d3df8f06",
   "metadata": {},
   "source": [
    "# **Type Casting**"
   ]
  },
  {
   "cell_type": "markdown",
   "id": "1a69fdbb",
   "metadata": {},
   "source": [
    "## int to float"
   ]
  },
  {
   "cell_type": "code",
   "execution_count": 3,
   "id": "9bb1cad8",
   "metadata": {},
   "outputs": [
    {
     "name": "stdout",
     "output_type": "stream",
     "text": [
      "29.0\n",
      "<class 'float'>\n"
     ]
    }
   ],
   "source": [
    "age_int =29\n",
    "age_float = float(age_int)\n",
    "print(age_float)\n",
    "print(type(age_float))"
   ]
  },
  {
   "cell_type": "markdown",
   "id": "ce334bb3",
   "metadata": {},
   "source": [
    "## float to int"
   ]
  },
  {
   "cell_type": "code",
   "execution_count": 4,
   "id": "943cabbd",
   "metadata": {},
   "outputs": [
    {
     "name": "stdout",
     "output_type": "stream",
     "text": [
      "16\n",
      "<class 'int'>\n"
     ]
    }
   ],
   "source": [
    "age_float = 16.00\n",
    "age_int = int(age_float)\n",
    "print(age_int)\n",
    "print(type(age_int))"
   ]
  },
  {
   "cell_type": "markdown",
   "id": "4cc9a92d",
   "metadata": {},
   "source": [
    "## float or int to string"
   ]
  },
  {
   "cell_type": "code",
   "execution_count": 5,
   "id": "c3084923",
   "metadata": {},
   "outputs": [],
   "source": [
    "number_int = 10\n",
    "number_float = 10.5\n"
   ]
  },
  {
   "cell_type": "code",
   "execution_count": 6,
   "id": "038eb1e5",
   "metadata": {},
   "outputs": [],
   "source": [
    "number_int = str(number_int)\n",
    "number_float = str(number_float)"
   ]
  },
  {
   "cell_type": "markdown",
   "id": "b510875b",
   "metadata": {},
   "source": [
    "## str to int or float"
   ]
  },
  {
   "cell_type": "code",
   "execution_count": 7,
   "id": "7370692e",
   "metadata": {},
   "outputs": [],
   "source": [
    "value = \"225\"\n",
    "value_int = int(value)\n",
    "value_float = float(value)"
   ]
  },
  {
   "cell_type": "markdown",
   "id": "4025a382",
   "metadata": {},
   "source": [
    "## list to tuple"
   ]
  },
  {
   "cell_type": "code",
   "execution_count": 8,
   "id": "04c39851",
   "metadata": {},
   "outputs": [
    {
     "name": "stdout",
     "output_type": "stream",
     "text": [
      "(1, 2, 3)\n"
     ]
    }
   ],
   "source": [
    "my_list = [1,2,3]\n",
    "my_tuple = tuple(my_list)\n",
    "print(my_tuple)"
   ]
  },
  {
   "cell_type": "markdown",
   "id": "2623c25c",
   "metadata": {},
   "source": [
    "## tuple to list"
   ]
  },
  {
   "cell_type": "code",
   "execution_count": 9,
   "id": "9d1b12a6",
   "metadata": {},
   "outputs": [
    {
     "name": "stdout",
     "output_type": "stream",
     "text": [
      "[1, 2, 3]\n"
     ]
    }
   ],
   "source": [
    "my_new_list = list(my_tuple)\n",
    "print(my_new_list)\n"
   ]
  },
  {
   "cell_type": "markdown",
   "id": "e0b92d55",
   "metadata": {},
   "source": [
    "## list to set"
   ]
  },
  {
   "cell_type": "code",
   "execution_count": 10,
   "id": "34633797",
   "metadata": {},
   "outputs": [
    {
     "name": "stdout",
     "output_type": "stream",
     "text": [
      "{1, 2, 3}\n"
     ]
    }
   ],
   "source": [
    "my_set = set(my_list)\n",
    "print(my_set)"
   ]
  },
  {
   "cell_type": "markdown",
   "id": "dbf1097e",
   "metadata": {},
   "source": [
    "## set to list"
   ]
  },
  {
   "cell_type": "code",
   "execution_count": 11,
   "id": "75baceea",
   "metadata": {},
   "outputs": [
    {
     "name": "stdout",
     "output_type": "stream",
     "text": [
      "[1, 2, 3]\n"
     ]
    }
   ],
   "source": [
    "my_new_list_2 = list(my_set)\n",
    "print(my_new_list_2)"
   ]
  },
  {
   "cell_type": "markdown",
   "id": "57ec1592",
   "metadata": {},
   "source": [
    "## boolean"
   ]
  },
  {
   "cell_type": "code",
   "execution_count": 12,
   "id": "605c3fd4",
   "metadata": {},
   "outputs": [
    {
     "name": "stdout",
     "output_type": "stream",
     "text": [
      "True\n"
     ]
    }
   ],
   "source": [
    "num = 10\n",
    "bool_value = bool(num)\n",
    "print(bool_value)"
   ]
  },
  {
   "cell_type": "code",
   "execution_count": 13,
   "id": "f9903c56",
   "metadata": {},
   "outputs": [
    {
     "name": "stdout",
     "output_type": "stream",
     "text": [
      "False\n"
     ]
    }
   ],
   "source": [
    "empty_list = []\n",
    "empty_list = bool(empty_list)\n",
    "print(empty_list)"
   ]
  }
 ],
 "metadata": {
  "kernelspec": {
   "display_name": "python_basics",
   "language": "python",
   "name": "python3"
  },
  "language_info": {
   "codemirror_mode": {
    "name": "ipython",
    "version": 3
   },
   "file_extension": ".py",
   "mimetype": "text/x-python",
   "name": "python",
   "nbconvert_exporter": "python",
   "pygments_lexer": "ipython3",
   "version": "3.10.18"
  }
 },
 "nbformat": 4,
 "nbformat_minor": 5
}

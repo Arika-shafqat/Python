{
 "cells": [
  {
   "cell_type": "markdown",
   "id": "3b2ab569",
   "metadata": {},
   "source": [
    "# **Variables**"
   ]
  },
  {
   "cell_type": "code",
   "execution_count": 4,
   "id": "afaff2b9",
   "metadata": {},
   "outputs": [],
   "source": [
    "age = 32"
   ]
  },
  {
   "cell_type": "code",
   "execution_count": 5,
   "id": "16561208",
   "metadata": {},
   "outputs": [
    {
     "name": "stdout",
     "output_type": "stream",
     "text": [
      "32\n"
     ]
    }
   ],
   "source": [
    "print(age)"
   ]
  },
  {
   "cell_type": "code",
   "execution_count": 6,
   "id": "903ecb1b",
   "metadata": {},
   "outputs": [
    {
     "name": "stdout",
     "output_type": "stream",
     "text": [
      "I'm 32 year old\n"
     ]
    }
   ],
   "source": [
    "print(\"I'm\",age,\"year old\")"
   ]
  },
  {
   "cell_type": "code",
   "execution_count": 7,
   "id": "e04c2c81",
   "metadata": {},
   "outputs": [],
   "source": [
    "name = 'arika'"
   ]
  },
  {
   "cell_type": "code",
   "execution_count": null,
   "id": "e1c0ea55",
   "metadata": {},
   "outputs": [],
   "source": [
    "is_true = True # not use true"
   ]
  },
  {
   "cell_type": "code",
   "execution_count": 10,
   "id": "9425a1ff",
   "metadata": {},
   "outputs": [],
   "source": [
    "weight =50.40"
   ]
  }
 ],
 "metadata": {
  "kernelspec": {
   "display_name": "python_basics",
   "language": "python",
   "name": "python3"
  },
  "language_info": {
   "codemirror_mode": {
    "name": "ipython",
    "version": 3
   },
   "file_extension": ".py",
   "mimetype": "text/x-python",
   "name": "python",
   "nbconvert_exporter": "python",
   "pygments_lexer": "ipython3",
   "version": "3.10.18"
  }
 },
 "nbformat": 4,
 "nbformat_minor": 5
}

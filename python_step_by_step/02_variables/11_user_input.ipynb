{
 "cells": [
  {
   "cell_type": "markdown",
   "id": "108ee9d9",
   "metadata": {},
   "source": [
    "# user input function"
   ]
  },
  {
   "cell_type": "code",
   "execution_count": 1,
   "id": "ea0a3ce4",
   "metadata": {},
   "outputs": [],
   "source": [
    "age = input(\"My age is:\")\n",
    "age = int(age)\n"
   ]
  },
  {
   "cell_type": "code",
   "execution_count": 2,
   "id": "b1995bed",
   "metadata": {},
   "outputs": [
    {
     "name": "stdout",
     "output_type": "stream",
     "text": [
      "The sum of 3.0 and 5.0 is 8.0.\n"
     ]
    }
   ],
   "source": [
    "num1 = float(input(\"Enter the first number: \"))\n",
    "num2 = float(input(\"Enter the second number: \"))\n",
    "result = num1 + num2\n",
    "print(f\"The sum of {num1} and {num2} is {result}.\")"
   ]
  },
  {
   "cell_type": "code",
   "execution_count": 3,
   "id": "26edb0f3",
   "metadata": {},
   "outputs": [
    {
     "name": "stdout",
     "output_type": "stream",
     "text": [
      "Asslam-o-Alikum!\n"
     ]
    }
   ],
   "source": [
    "nationality = input(\"what is your nationality\")\n",
    "\n",
    "if nationality.lower() == \"pakistani\":\n",
    "    print(\"Asslam-o-Alikum!\")\n",
    "else:\n",
    "    print(\"Hello\")"
   ]
  },
  {
   "cell_type": "markdown",
   "id": "0d651675",
   "metadata": {},
   "source": [
    "### validation of input"
   ]
  },
  {
   "cell_type": "code",
   "execution_count": 6,
   "id": "7d181890",
   "metadata": {},
   "outputs": [
    {
     "name": "stdout",
     "output_type": "stream",
     "text": [
      "Warning! Invalid input , write age in numerc form:\n"
     ]
    }
   ],
   "source": [
    "age = input(\"Write your age: \")\n",
    "\n",
    "if age.isdigit():\n",
    "    age = int(age)\n",
    "    print(\"Your age is: \", age)\n",
    "else:\n",
    "    print(\"Warning! Invalid input , write age in numerc form:\")"
   ]
  },
  {
   "cell_type": "markdown",
   "id": "cb1cf515",
   "metadata": {},
   "source": [
    "### Multiple Inputs in 1 Line"
   ]
  },
  {
   "cell_type": "code",
   "execution_count": 8,
   "id": "aded5730",
   "metadata": {},
   "outputs": [
    {
     "name": "stdout",
     "output_type": "stream",
     "text": [
      " Hello Arika, you are 22 year old\n"
     ]
    }
   ],
   "source": [
    "name, age = input(\"Enter name and age , seprated by a space: \").split()\n",
    "print(f\" Hello {name}, you are {age} year old\")"
   ]
  }
 ],
 "metadata": {
  "kernelspec": {
   "display_name": "python_basics",
   "language": "python",
   "name": "python3"
  },
  "language_info": {
   "codemirror_mode": {
    "name": "ipython",
    "version": 3
   },
   "file_extension": ".py",
   "mimetype": "text/x-python",
   "name": "python",
   "nbconvert_exporter": "python",
   "pygments_lexer": "ipython3",
   "version": "3.10.18"
  }
 },
 "nbformat": 4,
 "nbformat_minor": 5
}

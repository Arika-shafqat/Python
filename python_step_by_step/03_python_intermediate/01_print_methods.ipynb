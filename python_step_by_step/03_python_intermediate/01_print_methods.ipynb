{
 "cells": [
  {
   "cell_type": "markdown",
   "id": "6a11f64d",
   "metadata": {},
   "source": [
    "# print() funtion methods"
   ]
  },
  {
   "cell_type": "code",
   "execution_count": 2,
   "id": "06a505d0",
   "metadata": {},
   "outputs": [
    {
     "name": "stdout",
     "output_type": "stream",
     "text": [
      "My nmae is Arika\n",
      "Hello, Codenics \n",
      "Hello Arika\n",
      "Hello,Arika\n",
      "Hello, ,Arika\n",
      "Hello:Arika\n",
      "Hello,Arika\n",
      "Hello,Arika!\n",
      "Hello,Arikas\n",
      "Hello,Arika.\n"
     ]
    }
   ],
   "source": [
    "print(\"My nmae is Arika\")\n",
    "print(\"Hello, Codenics \")\n",
    "print(\"Hello\",\"Arika\")\n",
    "print(\"Hello\",\"Arika\", sep=\",\")\n",
    "print(\"Hello\",\"Arika\" , sep=\", ,\")\n",
    "print(\"Hello\",\"Arika\", sep=\":\")\n",
    "print(\"Hello\",\"Arika\", sep=\",\" , end=\"\\n\")\n",
    "print(\"Hello\",\"Arika\", sep=\",\" , end=\"!\\n\")\n",
    "print(\"Hello\",\"Arika\", sep=\",\" , end=\"s\\n\")\n",
    "print(\"Hello\",\"Arika\", sep=\",\" , end=\".\\n\")"
   ]
  },
  {
   "cell_type": "markdown",
   "id": "5775706d",
   "metadata": {},
   "source": [
    "### Formated String Literals"
   ]
  },
  {
   "cell_type": "code",
   "execution_count": 5,
   "id": "36c158f3",
   "metadata": {},
   "outputs": [
    {
     "name": "stdout",
     "output_type": "stream",
     "text": [
      "My name is Arika \n",
      "I am 22 year old\n"
     ]
    }
   ],
   "source": [
    "name = \"Arika\"\n",
    "age = 22\n",
    "print(f\"My name is {name} \\nI am {age} year old\")"
   ]
  },
  {
   "cell_type": "markdown",
   "id": "bcba4787",
   "metadata": {},
   "source": [
    "### str.format method"
   ]
  },
  {
   "cell_type": "code",
   "execution_count": 14,
   "id": "74f8cd3a",
   "metadata": {},
   "outputs": [
    {
     "name": "stdout",
     "output_type": "stream",
     "text": [
      "Hello World!\n",
      "My name is Arika and I am 22 year old.\n"
     ]
    }
   ],
   "source": [
    "print(\"Hello {0}!\".format(\"World\"))\n",
    "print(\"My name is {0} and I am {1} year old.\".format(\"Arika\",22))"
   ]
  },
  {
   "cell_type": "markdown",
   "id": "1257fb52",
   "metadata": {},
   "source": [
    "### % Formate"
   ]
  },
  {
   "cell_type": "code",
   "execution_count": null,
   "id": "c569d284",
   "metadata": {},
   "outputs": [
    {
     "name": "stdout",
     "output_type": "stream",
     "text": [
      "My name is Arika and I am 20 year old.\n"
     ]
    }
   ],
   "source": [
    "name = \"Arika\"\n",
    "age = 20\n",
    "print(\"My name is %s and I am %d year old.\"%(name, age))"
   ]
  },
  {
   "cell_type": "markdown",
   "id": "1963a5c0",
   "metadata": {},
   "source": [
    "### sys.stdout.write()"
   ]
  },
  {
   "cell_type": "code",
   "execution_count": 16,
   "id": "40ae3f90",
   "metadata": {},
   "outputs": [
    {
     "name": "stdout",
     "output_type": "stream",
     "text": [
      "Hello! Arika\n"
     ]
    },
    {
     "data": {
      "text/plain": [
       "13"
      ]
     },
     "execution_count": 16,
     "metadata": {},
     "output_type": "execute_result"
    }
   ],
   "source": [
    "import sys\n",
    "sys.stdout.write(\"Hello! Arika\\n\")"
   ]
  },
  {
   "cell_type": "markdown",
   "id": "9c6f5fa6",
   "metadata": {},
   "source": [
    "## multi line print function"
   ]
  },
  {
   "cell_type": "code",
   "execution_count": 1,
   "id": "d00f1cbe",
   "metadata": {},
   "outputs": [
    {
     "name": "stdout",
     "output_type": "stream",
     "text": [
      "Hello, How\n",
      "      are you\n"
     ]
    }
   ],
   "source": [
    "print(\"\"\"Hello, How\n",
    "      are you\"\"\")"
   ]
  },
  {
   "cell_type": "markdown",
   "id": "821a5593",
   "metadata": {},
   "source": [
    "## f string with multiline "
   ]
  },
  {
   "cell_type": "code",
   "execution_count": 2,
   "id": "9a5744cd",
   "metadata": {},
   "outputs": [
    {
     "name": "stdout",
     "output_type": "stream",
     "text": [
      "My name is Arika and I'm 20 year old.\n",
      "      How are you?\n"
     ]
    }
   ],
   "source": [
    "name = \"Arika\"\n",
    "age = 20\n",
    "final = \"How are you?\"\n",
    "print(f\"\"\"My name is {name} and I'm {age} year old.\n",
    "      {final}\"\"\")"
   ]
  },
  {
   "cell_type": "markdown",
   "id": "39ff86cb",
   "metadata": {},
   "source": [
    "## Print to a file"
   ]
  },
  {
   "cell_type": "code",
   "execution_count": 3,
   "id": "bd926d9d",
   "metadata": {},
   "outputs": [],
   "source": [
    "with open(\"./outputs/print_to_file.txt\",\"w\") as file:\n",
    "    print(\"Hello,Arika\",file=file)"
   ]
  },
  {
   "cell_type": "code",
   "execution_count": 6,
   "id": "fc4fd9fb",
   "metadata": {},
   "outputs": [],
   "source": [
    "with open(\"../mainprint_to_file.txt\",\"w\") as file:\n",
    "    print(\"Hello,Arika HOW ARE YOU\",file=file)"
   ]
  },
  {
   "cell_type": "markdown",
   "id": "5e086f0c",
   "metadata": {},
   "source": [
    "### Print object with custom _str_ or  _repr_ Methods"
   ]
  },
  {
   "cell_type": "code",
   "execution_count": null,
   "id": "69c83362",
   "metadata": {},
   "outputs": [
    {
     "ename": "SyntaxError",
     "evalue": "invalid syntax (3267927618.py, line 2)",
     "output_type": "error",
     "traceback": [
      "\u001b[1;36m  Cell \u001b[1;32mIn[8], line 2\u001b[1;36m\u001b[0m\n\u001b[1;33m    def _init_{self,name,age}:\u001b[0m\n\u001b[1;37m              ^\u001b[0m\n\u001b[1;31mSyntaxError\u001b[0m\u001b[1;31m:\u001b[0m invalid syntax\n"
     ]
    }
   ],
   "source": [
    "class Person:\n",
    "    def __init__{self,name,age}:\n",
    "        self.name = name\n",
    "        self.age = age\n",
    "    def __str__{self}:\n",
    "        return f\"{self.name},{self.age} years old\"\n",
    "p = Person(\"Alice\",22)\n",
    "print(p)"
   ]
  }
 ],
 "metadata": {
  "kernelspec": {
   "display_name": "python_basics",
   "language": "python",
   "name": "python3"
  },
  "language_info": {
   "codemirror_mode": {
    "name": "ipython",
    "version": 3
   },
   "file_extension": ".py",
   "mimetype": "text/x-python",
   "name": "python",
   "nbconvert_exporter": "python",
   "pygments_lexer": "ipython3",
   "version": "3.10.18"
  }
 },
 "nbformat": 4,
 "nbformat_minor": 5
}

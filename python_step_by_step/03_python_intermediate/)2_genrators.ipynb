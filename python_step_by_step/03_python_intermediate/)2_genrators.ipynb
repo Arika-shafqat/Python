{
 "cells": [
  {
   "cell_type": "markdown",
   "id": "0471f8ca",
   "metadata": {},
   "source": [
    "## Genrators in Python"
   ]
  },
  {
   "cell_type": "code",
   "execution_count": 2,
   "id": "8edb9c0b",
   "metadata": {},
   "outputs": [
    {
     "name": "stdout",
     "output_type": "stream",
     "text": [
      "<generator object my_gen at 0x0000024DC5F131B0>\n",
      "A\n"
     ]
    }
   ],
   "source": [
    "def my_gen():\n",
    "    yield 'A'\n",
    "    yield 'B'\n",
    "    yield 'C'\n",
    "    yield 'D'\n",
    "\n",
    "# genrate objects\n",
    "g = my_gen()\n",
    "print(g)\n",
    "print(next(g))\n"
   ]
  },
  {
   "cell_type": "code",
   "execution_count": 4,
   "id": "0da2ce36",
   "metadata": {},
   "outputs": [
    {
     "name": "stdout",
     "output_type": "stream",
     "text": [
      "C\n"
     ]
    }
   ],
   "source": [
    "print(next(g))"
   ]
  },
  {
   "cell_type": "code",
   "execution_count": 5,
   "id": "83b00fb5",
   "metadata": {},
   "outputs": [
    {
     "name": "stdout",
     "output_type": "stream",
     "text": [
      "0\n",
      "1\n",
      "4\n",
      "9\n",
      "16\n"
     ]
    }
   ],
   "source": [
    "# genrator expression\n",
    "gen = (x**2 for x in range(5))\n",
    "for x in gen:\n",
    "    print(x)"
   ]
  }
 ],
 "metadata": {
  "kernelspec": {
   "display_name": "python_basics",
   "language": "python",
   "name": "python3"
  },
  "language_info": {
   "codemirror_mode": {
    "name": "ipython",
    "version": 3
   },
   "file_extension": ".py",
   "mimetype": "text/x-python",
   "name": "python",
   "nbconvert_exporter": "python",
   "pygments_lexer": "ipython3",
   "version": "3.10.18"
  }
 },
 "nbformat": 4,
 "nbformat_minor": 5
}

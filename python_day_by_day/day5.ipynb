{
 "cells": [
  {
   "cell_type": "code",
   "execution_count": 7,
   "id": "c163f923-4466-43aa-a5c0-96c85767e28d",
   "metadata": {},
   "outputs": [
    {
     "name": "stdout",
     "output_type": "stream",
     "text": [
      "16\n"
     ]
    }
   ],
   "source": [
    "class Math:\n",
    "    def square(self ,n):\n",
    "        return n ** 2\n",
    "        \n",
    "M = Math()        \n",
    "print(M.square(4))\n",
    "\n"
   ]
  },
  {
   "cell_type": "code",
   "execution_count": 8,
   "id": "4bbac37e-5061-40fd-8900-8ea88e026949",
   "metadata": {},
   "outputs": [
    {
     "data": {
      "text/plain": [
       "'Engine started!'"
      ]
     },
     "execution_count": 8,
     "metadata": {},
     "output_type": "execute_result"
    }
   ],
   "source": [
    "class Car:\n",
    "    def start_engine(self):\n",
    "        return \"Engine started!\"\n",
    "C= Car()\n",
    "C.start_engine()"
   ]
  },
  {
   "cell_type": "code",
   "execution_count": 9,
   "id": "bbca1dba-e8af-4386-a1dc-a6b6af19b5c1",
   "metadata": {},
   "outputs": [],
   "source": [
    "class Calculator:\n",
    "    def __init__(self, a, b):\n",
    "        self.a = a\n",
    "        self.b = b\n",
    "\n",
    "    def add(self):\n",
    "        return self.a + self.b\n"
   ]
  },
  {
   "cell_type": "code",
   "execution_count": 12,
   "id": "de1a4e84-0b15-43f2-9c0c-32bb27a1c3c6",
   "metadata": {},
   "outputs": [
    {
     "name": "stdout",
     "output_type": "stream",
     "text": [
      "5\n"
     ]
    }
   ],
   "source": [
    "c1 = Calculator(3,2)\n",
    "print(c1.add())"
   ]
  },
  {
   "cell_type": "code",
   "execution_count": 17,
   "id": "373ca55a-6891-4191-a549-1b5ed41963a3",
   "metadata": {},
   "outputs": [],
   "source": [
    "class Student:\n",
    "    def __init__(self, subject):\n",
    "        self.subject = subject\n",
    "\n",
    "    def study(self):\n",
    "        print( \"Studying\",self.subject)\n",
    "\n",
    "s1 = Student(\"Computer\")"
   ]
  },
  {
   "cell_type": "code",
   "execution_count": 19,
   "id": "cff4bc21-e6c3-445a-8fb6-de26947be3ce",
   "metadata": {},
   "outputs": [
    {
     "name": "stdout",
     "output_type": "stream",
     "text": [
      "Studying Computer\n"
     ]
    }
   ],
   "source": [
    "s1.study()"
   ]
  },
  {
   "cell_type": "code",
   "execution_count": 21,
   "id": "54c3e117-cc5f-4a5d-a641-765fb9ff72ba",
   "metadata": {},
   "outputs": [
    {
     "name": "stdout",
     "output_type": "stream",
     "text": [
      "Student: Rahul, Total: 330, Average: 82.50, Percentage: 82.50%\n"
     ]
    }
   ],
   "source": [
    "class Student:\n",
    "    def __init__(self, name, marks):\n",
    "        self.name = name\n",
    "        self.marks = marks  # List of marks\n",
    "\n",
    "    def total_marks(self):\n",
    "        return sum(self.marks)\n",
    "\n",
    "    def average_marks(self):\n",
    "        return sum(self.marks) / len(self.marks)\n",
    "\n",
    "    def percentage(self):\n",
    "        max_total = len(self.marks) * 100  # assuming each subject is out of 100\n",
    "        return (self.total_marks() / max_total) * 100\n",
    "\n",
    "    def display(self):\n",
    "        return f\"Student: {self.name}, Total: {self.total_marks()}, Average: {self.average_marks():.2f}, Percentage: {self.percentage():.2f}%\"\n",
    "\n",
    "\n",
    "marks = [80, 90, 75, 85]\n",
    "\n",
    "student = Student(\"Rahul\", marks)\n",
    "\n",
    "print(student.display())\n"
   ]
  },
  {
   "cell_type": "code",
   "execution_count": 28,
   "id": "0183b6d3-9844-42ee-ad8b-a166b1d716c5",
   "metadata": {},
   "outputs": [
    {
     "name": "stdout",
     "output_type": "stream",
     "text": [
      "Amaz\n"
     ]
    }
   ],
   "source": [
    "class Person:\n",
    "    __name = \"\"\n",
    "    def __init__(self, name):\n",
    "        self.__name = name  \n",
    "\n",
    "    def get_name(self):\n",
    "        return self.__name\n",
    "p1 = Person(\"Arika\")\n",
    "p1.name = \"Amaz\"\n",
    "print(p1.name)\n",
    "\n",
    "#If name already exists inside the class (as __name), then how can Python still allow p1.name = \"Amaz\" and create a new attribute?\n",
    "#Shouldn't it update the existing one?\n"
   ]
  },
  {
   "cell_type": "code",
   "execution_count": null,
   "id": "2273c440-3eb9-4468-8be3-777f9328f08a",
   "metadata": {},
   "outputs": [],
   "source": []
  }
 ],
 "metadata": {
  "kernelspec": {
   "display_name": "Python 3 (ipykernel)",
   "language": "python",
   "name": "python3"
  },
  "language_info": {
   "codemirror_mode": {
    "name": "ipython",
    "version": 3
   },
   "file_extension": ".py",
   "mimetype": "text/x-python",
   "name": "python",
   "nbconvert_exporter": "python",
   "pygments_lexer": "ipython3",
   "version": "3.13.5"
  }
 },
 "nbformat": 4,
 "nbformat_minor": 5
}

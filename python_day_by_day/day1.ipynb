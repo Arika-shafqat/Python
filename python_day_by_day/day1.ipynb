{
 "cells": [
  {
   "cell_type": "code",
   "execution_count": 16,
   "id": "38912434-0a60-4db4-b71c-c198bb87f27e",
   "metadata": {},
   "outputs": [],
   "source": [
    " i = 2 #int"
   ]
  },
  {
   "cell_type": "code",
   "execution_count": 6,
   "id": "811b56b7-4cb5-469f-9d06-7541da62ce31",
   "metadata": {},
   "outputs": [],
   "source": [
    "f = 3.5 #float"
   ]
  },
  {
   "cell_type": "code",
   "execution_count": 5,
   "id": "5f8f4cbe-0092-4d25-ac7b-648d313a4355",
   "metadata": {},
   "outputs": [],
   "source": [
    "s = \"Arika\" #string"
   ]
  },
  {
   "cell_type": "code",
   "execution_count": 7,
   "id": "e9b856d8-2736-4d43-9517-244ed20ffc3a",
   "metadata": {},
   "outputs": [],
   "source": [
    "b = True #bollean"
   ]
  },
  {
   "cell_type": "code",
   "execution_count": 10,
   "id": "97a84894-fbed-446f-add7-c24510296488",
   "metadata": {},
   "outputs": [],
   "source": [
    "l = [1,3,\"a\",'b',f] # list"
   ]
  },
  {
   "cell_type": "code",
   "execution_count": 11,
   "id": "631dac82-2b90-4746-a2f5-4d419383daa9",
   "metadata": {},
   "outputs": [],
   "source": [
    "t = (3,\"Arika\",3,76) #tuple"
   ]
  },
  {
   "cell_type": "code",
   "execution_count": 18,
   "id": "e133cd5a-b7b4-4cd2-ae09-3b1d5936885c",
   "metadata": {},
   "outputs": [],
   "source": [
    "st = {1,2,3,6,4,5} #set "
   ]
  },
  {
   "cell_type": "code",
   "execution_count": 15,
   "id": "af1e38fd-372a-474d-9084-d9b6f50db021",
   "metadata": {},
   "outputs": [],
   "source": [
    "dic = {\"name\":\"Arika\",\"department\":\"IT\"} #dictionary"
   ]
  },
  {
   "cell_type": "code",
   "execution_count": 17,
   "id": "6593a4bf-beb9-43d7-b391-de65255ff2a3",
   "metadata": {},
   "outputs": [],
   "source": [
    "c = 1+2j #complex"
   ]
  },
  {
   "cell_type": "code",
   "execution_count": 19,
   "id": "34e8ff58-9ffb-4aa2-a1d5-007631aea17b",
   "metadata": {},
   "outputs": [],
   "source": [
    "f_st = frozenset([10,20,39])"
   ]
  },
  {
   "cell_type": "code",
   "execution_count": 20,
   "id": "7db48a9c-cf14-43d8-905f-60cf626a9374",
   "metadata": {},
   "outputs": [],
   "source": [
    "a = 9\n",
    "b = 2"
   ]
  },
  {
   "cell_type": "code",
   "execution_count": 21,
   "id": "56290be1-b971-4918-bb91-a3b8f8373b4d",
   "metadata": {},
   "outputs": [
    {
     "name": "stdout",
     "output_type": "stream",
     "text": [
      "11\n"
     ]
    }
   ],
   "source": [
    "add = a+b\n",
    "print(add)"
   ]
  },
  {
   "cell_type": "code",
   "execution_count": 22,
   "id": "320eb9b7-d8be-4546-b15b-7c898d8ced6e",
   "metadata": {},
   "outputs": [
    {
     "name": "stdout",
     "output_type": "stream",
     "text": [
      "7\n"
     ]
    }
   ],
   "source": [
    "sub = a-b\n",
    "print(sub)"
   ]
  },
  {
   "cell_type": "code",
   "execution_count": 23,
   "id": "721e228e-b8e7-4b6b-a8e8-eb66da7568d4",
   "metadata": {},
   "outputs": [
    {
     "name": "stdout",
     "output_type": "stream",
     "text": [
      "18\n"
     ]
    }
   ],
   "source": [
    "multiply = a*b\n",
    "print(multiply)"
   ]
  },
  {
   "cell_type": "code",
   "execution_count": 24,
   "id": "bd3b2974-1562-47e9-8e73-360601f1c423",
   "metadata": {},
   "outputs": [
    {
     "name": "stdout",
     "output_type": "stream",
     "text": [
      "4.5\n"
     ]
    }
   ],
   "source": [
    "divide = a/b\n",
    "print(divide)"
   ]
  },
  {
   "cell_type": "code",
   "execution_count": 25,
   "id": "13def0cc-a723-4545-b7a2-f16cf8c8e886",
   "metadata": {},
   "outputs": [
    {
     "name": "stdout",
     "output_type": "stream",
     "text": [
      "4\n"
     ]
    }
   ],
   "source": [
    "flt_div = a//b\n",
    "print(flt_div)"
   ]
  },
  {
   "cell_type": "code",
   "execution_count": 27,
   "id": "21373699-0722-4ba4-819f-65e70b76ff71",
   "metadata": {},
   "outputs": [
    {
     "name": "stdout",
     "output_type": "stream",
     "text": [
      "1\n"
     ]
    }
   ],
   "source": [
    "mod = a%b\n",
    "print(mod)"
   ]
  },
  {
   "cell_type": "code",
   "execution_count": 30,
   "id": "13efe89f-1c08-45ef-b299-197d81886947",
   "metadata": {},
   "outputs": [
    {
     "name": "stdout",
     "output_type": "stream",
     "text": [
      "4\n"
     ]
    }
   ],
   "source": [
    "expo = 2**2\n",
    "print(expo)"
   ]
  },
  {
   "cell_type": "code",
   "execution_count": 31,
   "id": "8f164db1-418d-4944-9f28-28039135869e",
   "metadata": {},
   "outputs": [],
   "source": [
    "a = 2\n",
    "b = 2\n",
    "c = 3"
   ]
  },
  {
   "cell_type": "code",
   "execution_count": 32,
   "id": "d367ef9c-d91d-4171-ac59-982a949e3721",
   "metadata": {},
   "outputs": [
    {
     "data": {
      "text/plain": [
       "True"
      ]
     },
     "execution_count": 32,
     "metadata": {},
     "output_type": "execute_result"
    }
   ],
   "source": [
    "a==b"
   ]
  },
  {
   "cell_type": "code",
   "execution_count": 33,
   "id": "b7c4bc5a-4ec2-4416-add9-7218af48ee83",
   "metadata": {},
   "outputs": [
    {
     "data": {
      "text/plain": [
       "False"
      ]
     },
     "execution_count": 33,
     "metadata": {},
     "output_type": "execute_result"
    }
   ],
   "source": [
    "a > b"
   ]
  },
  {
   "cell_type": "code",
   "execution_count": 34,
   "id": "7e8748a9-4776-4575-901d-ed376f2970a3",
   "metadata": {},
   "outputs": [
    {
     "data": {
      "text/plain": [
       "False"
      ]
     },
     "execution_count": 34,
     "metadata": {},
     "output_type": "execute_result"
    }
   ],
   "source": [
    "a < b"
   ]
  },
  {
   "cell_type": "code",
   "execution_count": 35,
   "id": "2688807e-7329-4301-9cfa-40d56bc2b074",
   "metadata": {},
   "outputs": [
    {
     "data": {
      "text/plain": [
       "True"
      ]
     },
     "execution_count": 35,
     "metadata": {},
     "output_type": "execute_result"
    }
   ],
   "source": [
    "a >= b"
   ]
  },
  {
   "cell_type": "code",
   "execution_count": 36,
   "id": "b81c667f-02ad-470a-96fd-0d21d62c2ed1",
   "metadata": {},
   "outputs": [
    {
     "data": {
      "text/plain": [
       "True"
      ]
     },
     "execution_count": 36,
     "metadata": {},
     "output_type": "execute_result"
    }
   ],
   "source": [
    "a<=b"
   ]
  },
  {
   "cell_type": "code",
   "execution_count": 37,
   "id": "a198e4f4-aa59-4020-9e7d-3aeb7d6d516c",
   "metadata": {},
   "outputs": [
    {
     "data": {
      "text/plain": [
       "True"
      ]
     },
     "execution_count": 37,
     "metadata": {},
     "output_type": "execute_result"
    }
   ],
   "source": [
    "a!=c"
   ]
  },
  {
   "cell_type": "code",
   "execution_count": 43,
   "id": "957be073-8261-46e2-9f04-32c6a20fbe4d",
   "metadata": {},
   "outputs": [
    {
     "data": {
      "text/plain": [
       "True"
      ]
     },
     "execution_count": 43,
     "metadata": {},
     "output_type": "execute_result"
    }
   ],
   "source": [
    "( 5 == 5) and (6 != 5)"
   ]
  },
  {
   "cell_type": "code",
   "execution_count": 44,
   "id": "77aeb618-e390-4a52-8766-b1c7c250826a",
   "metadata": {},
   "outputs": [
    {
     "data": {
      "text/plain": [
       "True"
      ]
     },
     "execution_count": 44,
     "metadata": {},
     "output_type": "execute_result"
    }
   ],
   "source": [
    "( 5 == 5) or (6 != 5)"
   ]
  },
  {
   "cell_type": "code",
   "execution_count": 45,
   "id": "22cdfa89-ce2d-4a37-bb82-45372428a447",
   "metadata": {},
   "outputs": [
    {
     "name": "stderr",
     "output_type": "stream",
     "text": [
      "and was unexpected at this time.\n"
     ]
    }
   ],
   "source": [
    "!(( 5 == 5) and (6 != 5))"
   ]
  },
  {
   "cell_type": "code",
   "execution_count": 47,
   "id": "df8ced8c-dc69-41b5-8c07-e10395eb3105",
   "metadata": {},
   "outputs": [
    {
     "name": "stdout",
     "output_type": "stream",
     "text": [
      "4\n"
     ]
    }
   ],
   "source": [
    "a += 1 #compound operator\n",
    "print(a)"
   ]
  },
  {
   "cell_type": "code",
   "execution_count": null,
   "id": "1047d90f-e0e9-4af5-ba34-d4521ed304ad",
   "metadata": {},
   "outputs": [],
   "source": []
  }
 ],
 "metadata": {
  "kernelspec": {
   "display_name": "Python 3 (ipykernel)",
   "language": "python",
   "name": "python3"
  },
  "language_info": {
   "codemirror_mode": {
    "name": "ipython",
    "version": 3
   },
   "file_extension": ".py",
   "mimetype": "text/x-python",
   "name": "python",
   "nbconvert_exporter": "python",
   "pygments_lexer": "ipython3",
   "version": "3.13.5"
  }
 },
 "nbformat": 4,
 "nbformat_minor": 5
}

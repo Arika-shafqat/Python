{
 "cells": [
  {
   "cell_type": "code",
   "execution_count": 1,
   "id": "6b0b3ad3-e66c-4d4f-a66d-3ab218d4fb56",
   "metadata": {},
   "outputs": [
    {
     "name": "stdout",
     "output_type": "stream",
     "text": [
      "No exceptions, result: 5.0\n"
     ]
    }
   ],
   "source": [
    "try:\n",
    "    x = 5 / 1\n",
    "except ZeroDivisionError:\n",
    "    print(\"Division by zero!\")\n",
    "else:\n",
    "    print(\"No exceptions, result:\", x)\n"
   ]
  },
  {
   "cell_type": "code",
   "execution_count": 2,
   "id": "2f674bbf-9652-4a02-af40-96da1489aaa6",
   "metadata": {},
   "outputs": [
    {
     "name": "stdout",
     "output_type": "stream",
     "text": [
      "File not found.\n",
      "Cleaning up resources.\n"
     ]
    }
   ],
   "source": [
    "try:\n",
    "    f = open(\"file.txt\", \"r\")\n",
    "    data = f.read()\n",
    "except FileNotFoundError:\n",
    "    print(\"File not found.\")\n",
    "finally:\n",
    "    print(\"Cleaning up resources.\")\n",
    "    if 'f' in locals():\n",
    "        f.close()\n"
   ]
  },
  {
   "cell_type": "code",
   "execution_count": 4,
   "id": "db3d548e-d169-4853-a2a6-7009788228f0",
   "metadata": {},
   "outputs": [
    {
     "name": "stdout",
     "output_type": "stream",
     "text": [
      "Invalid input!\n"
     ]
    }
   ],
   "source": [
    "try:\n",
    "    x = int(\"hello\")\n",
    "except ValueError:\n",
    "    print(\"Invalid input!\")\n",
    "except ZeroDivisionError:\n",
    "    print(\"Division by zero!\")"
   ]
  },
  {
   "cell_type": "code",
   "execution_count": 5,
   "id": "4a8ac186-1cd0-4118-965f-31baf1036e92",
   "metadata": {},
   "outputs": [
    {
     "name": "stdout",
     "output_type": "stream",
     "text": [
      "Caught a ValueError or TypeError!\n"
     ]
    }
   ],
   "source": [
    "try:\n",
    "    x = int(\"abc\")\n",
    "except (ValueError, TypeError):\n",
    "    print(\"Caught a ValueError or TypeError!\")\n"
   ]
  },
  {
   "cell_type": "markdown",
   "id": "3a85da05-27d9-4ee9-a590-8ba3cdb3807a",
   "metadata": {},
   "source": [
    "## string"
   ]
  },
  {
   "cell_type": "code",
   "execution_count": 6,
   "id": "0e82ff92-b6b2-45e0-b75f-3bde0e53a59e",
   "metadata": {},
   "outputs": [],
   "source": [
    "str=\"hello world,how are you\""
   ]
  },
  {
   "cell_type": "code",
   "execution_count": 8,
   "id": "af4db65c-f105-4ab9-a379-f9d27da65130",
   "metadata": {},
   "outputs": [
    {
     "data": {
      "text/plain": [
       "'ello'"
      ]
     },
     "execution_count": 8,
     "metadata": {},
     "output_type": "execute_result"
    }
   ],
   "source": [
    "str[1:5]"
   ]
  },
  {
   "cell_type": "code",
   "execution_count": 9,
   "id": "33f0239a-4310-448f-98f2-8602afb08eef",
   "metadata": {},
   "outputs": [
    {
     "data": {
      "text/plain": [
       "'el'"
      ]
     },
     "execution_count": 9,
     "metadata": {},
     "output_type": "execute_result"
    }
   ],
   "source": [
    "str[1:10:8]"
   ]
  },
  {
   "cell_type": "code",
   "execution_count": 17,
   "id": "d69affaa-3ab5-4c4b-9eb2-a2d97cbfaf85",
   "metadata": {},
   "outputs": [
    {
     "data": {
      "text/plain": [
       "'HELLO WORLD,HOW ARE YOU'"
      ]
     },
     "execution_count": 17,
     "metadata": {},
     "output_type": "execute_result"
    }
   ],
   "source": [
    "str=str.upper()\n",
    "str"
   ]
  },
  {
   "cell_type": "code",
   "execution_count": 18,
   "id": "5f918a7f-7344-4ee4-9eac-c26f1231751c",
   "metadata": {},
   "outputs": [],
   "source": [
    "strlower = str.lower()"
   ]
  },
  {
   "cell_type": "code",
   "execution_count": 19,
   "id": "842932ce-ca04-43f2-9f48-2ddc7efe7e10",
   "metadata": {},
   "outputs": [
    {
     "data": {
      "text/plain": [
       "'hello world,how are you'"
      ]
     },
     "execution_count": 19,
     "metadata": {},
     "output_type": "execute_result"
    }
   ],
   "source": [
    "strlower"
   ]
  },
  {
   "cell_type": "code",
   "execution_count": 20,
   "id": "c9472c40-0685-4af5-8c64-41a9b536e937",
   "metadata": {},
   "outputs": [
    {
     "data": {
      "text/plain": [
       "'HELLO WORLD,HOW ARE YOU hello world,how are you'"
      ]
     },
     "execution_count": 20,
     "metadata": {},
     "output_type": "execute_result"
    }
   ],
   "source": [
    "str_con = str+\" \"+strlower\n",
    "str_con"
   ]
  },
  {
   "cell_type": "code",
   "execution_count": 29,
   "id": "4b759fff-66b5-4b92-b158-f3028dcf400b",
   "metadata": {},
   "outputs": [],
   "source": [
    "str_con_int =str,3456"
   ]
  },
  {
   "cell_type": "code",
   "execution_count": 30,
   "id": "2ef7b087-806e-4176-878c-5d86bdc40115",
   "metadata": {},
   "outputs": [
    {
     "name": "stdout",
     "output_type": "stream",
     "text": [
      "('HELLO WORLD,HOW ARE YOU', 3456)\n"
     ]
    }
   ],
   "source": [
    "print(str_con_int)"
   ]
  },
  {
   "cell_type": "code",
   "execution_count": 44,
   "id": "074d9150-f87c-4456-9256-630c6c997006",
   "metadata": {},
   "outputs": [
    {
     "data": {
      "text/plain": [
       "['HELLO', 'WORLD,HOW', 'ARE', 'YOU']"
      ]
     },
     "execution_count": 44,
     "metadata": {},
     "output_type": "execute_result"
    }
   ],
   "source": [
    "str.split()"
   ]
  },
  {
   "cell_type": "code",
   "execution_count": 45,
   "id": "ea238481-e887-4bff-b004-ed1c45d177c2",
   "metadata": {},
   "outputs": [
    {
     "data": {
      "text/plain": [
       "['HELLO WORLD', 'HOW ARE YOU']"
      ]
     },
     "execution_count": 45,
     "metadata": {},
     "output_type": "execute_result"
    }
   ],
   "source": [
    "str.split(\",\")"
   ]
  },
  {
   "cell_type": "code",
   "execution_count": 46,
   "id": "a8a2d80c-a5a6-42e6-a0d6-6cb54fa321ff",
   "metadata": {},
   "outputs": [
    {
     "ename": "AttributeError",
     "evalue": "'tuple' object has no attribute 'split'",
     "output_type": "error",
     "traceback": [
      "\u001b[1;31m---------------------------------------------------------------------------\u001b[0m",
      "\u001b[1;31mAttributeError\u001b[0m                            Traceback (most recent call last)",
      "Cell \u001b[1;32mIn[46], line 1\u001b[0m\n\u001b[1;32m----> 1\u001b[0m str_con_int\u001b[38;5;241m.\u001b[39msplit(\u001b[38;5;124m\"\u001b[39m\u001b[38;5;124m,\u001b[39m\u001b[38;5;124m\"\u001b[39m)\n",
      "\u001b[1;31mAttributeError\u001b[0m: 'tuple' object has no attribute 'split'"
     ]
    }
   ],
   "source": [
    "str_con_int.split(\",\")"
   ]
  },
  {
   "cell_type": "code",
   "execution_count": null,
   "id": "f867bbf4-e1bd-41c3-9608-cca3950ee23b",
   "metadata": {},
   "outputs": [],
   "source": []
  }
 ],
 "metadata": {
  "kernelspec": {
   "display_name": "Python 3 (ipykernel)",
   "language": "python",
   "name": "python3"
  },
  "language_info": {
   "codemirror_mode": {
    "name": "ipython",
    "version": 3
   },
   "file_extension": ".py",
   "mimetype": "text/x-python",
   "name": "python",
   "nbconvert_exporter": "python",
   "pygments_lexer": "ipython3",
   "version": "3.13.5"
  }
 },
 "nbformat": 4,
 "nbformat_minor": 5
}

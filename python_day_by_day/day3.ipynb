{
 "cells": [
  {
   "cell_type": "code",
   "execution_count": 7,
   "id": "a23c59ea-65b6-4b62-aaca-a241bb7636c2",
   "metadata": {},
   "outputs": [
    {
     "name": "stdout",
     "output_type": "stream",
     "text": [
      "7\n"
     ]
    }
   ],
   "source": [
    "add = lambda x,y,z: x+y+z\n",
    "print(add(3,2,2))"
   ]
  },
  {
   "cell_type": "code",
   "execution_count": 4,
   "id": "c126235f-0d15-4105-a58f-135643d70254",
   "metadata": {},
   "outputs": [
    {
     "name": "stdout",
     "output_type": "stream",
     "text": [
      "4\n"
     ]
    }
   ],
   "source": [
    "square = lambda x : x*2\n",
    "print(square(2))"
   ]
  },
  {
   "cell_type": "code",
   "execution_count": 6,
   "id": "1e89bebc-b8fb-4fc2-85a7-36e9d01562b5",
   "metadata": {},
   "outputs": [
    {
     "name": "stdout",
     "output_type": "stream",
     "text": [
      "6\n"
     ]
    }
   ],
   "source": [
    "multiply = lambda x,y,z: x+y+z\n",
    "print(multiply(2,2,2))"
   ]
  },
  {
   "cell_type": "code",
   "execution_count": 9,
   "id": "69454d0f-48dd-4ad3-80dc-a160ca81ea29",
   "metadata": {},
   "outputs": [
    {
     "name": "stdout",
     "output_type": "stream",
     "text": [
      "hello world\n"
     ]
    }
   ],
   "source": [
    "p = lambda x: print(x)\n",
    "p(\"hello world\")"
   ]
  },
  {
   "cell_type": "code",
   "execution_count": 12,
   "id": "630a6dc9-911e-4f73-83ae-ce0bfdcf50ad",
   "metadata": {},
   "outputs": [
    {
     "name": "stdout",
     "output_type": "stream",
     "text": [
      "6\n"
     ]
    }
   ],
   "source": [
    "p(multiply(2,2,2))"
   ]
  },
  {
   "cell_type": "code",
   "execution_count": 14,
   "id": "bc95d34f-ba19-404c-89db-4d4f7bdd3a86",
   "metadata": {},
   "outputs": [
    {
     "name": "stdout",
     "output_type": "stream",
     "text": [
      "9\n"
     ]
    }
   ],
   "source": [
    "p_sum = lambda x,y:p(x+y)\n",
    "p_sum(4,5)"
   ]
  },
  {
   "cell_type": "code",
   "execution_count": 15,
   "id": "a41e85da-64bf-4832-b318-641b235683c5",
   "metadata": {},
   "outputs": [],
   "source": [
    "def add(x,y):\n",
    "    return x+y"
   ]
  },
  {
   "cell_type": "code",
   "execution_count": 17,
   "id": "f74f4fc7-bf93-45c4-b9f9-262ac6928dcb",
   "metadata": {},
   "outputs": [
    {
     "data": {
      "text/plain": [
       "9"
      ]
     },
     "execution_count": 17,
     "metadata": {},
     "output_type": "execute_result"
    }
   ],
   "source": [
    "add_5 = lambda x,y: add(x,y)+5\n",
    "add_5(2,2)"
   ]
  },
  {
   "cell_type": "code",
   "execution_count": 35,
   "id": "73b88d59-48aa-48aa-94bf-658707a72d3d",
   "metadata": {},
   "outputs": [
    {
     "name": "stdout",
     "output_type": "stream",
     "text": [
      "don't divide with zero\n",
      "ok\n"
     ]
    }
   ],
   "source": [
    "x=2\n",
    "y=0\n",
    "try:\n",
    "    result= x/y\n",
    "except :\n",
    "    print(\"don't divide with zero\")\n",
    "finally:\n",
    "    print(\"ok\")\n"
   ]
  },
  {
   "cell_type": "code",
   "execution_count": 37,
   "id": "5339f4be-dc51-4c16-99dd-6e0bb7db0e79",
   "metadata": {},
   "outputs": [
    {
     "name": "stdout",
     "output_type": "stream",
     "text": [
      "don't divide with zero\n",
      "ok\n"
     ]
    }
   ],
   "source": [
    "def add(x,y):\n",
    "    try:\n",
    "        return x/y\n",
    "    except Exception as e :\n",
    "        print(\"don't divide with zero\")\n",
    "    finally:\n",
    "        print(\"ok\")\n",
    "add(4,0)\n"
   ]
  },
  {
   "cell_type": "code",
   "execution_count": null,
   "id": "14bb4030-9cf7-4eee-9763-946f5633bf90",
   "metadata": {},
   "outputs": [],
   "source": []
  }
 ],
 "metadata": {
  "kernelspec": {
   "display_name": "Python 3 (ipykernel)",
   "language": "python",
   "name": "python3"
  },
  "language_info": {
   "codemirror_mode": {
    "name": "ipython",
    "version": 3
   },
   "file_extension": ".py",
   "mimetype": "text/x-python",
   "name": "python",
   "nbconvert_exporter": "python",
   "pygments_lexer": "ipython3",
   "version": "3.13.5"
  }
 },
 "nbformat": 4,
 "nbformat_minor": 5
}
